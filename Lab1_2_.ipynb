{
  "nbformat": 4,
  "nbformat_minor": 0,
  "metadata": {
    "colab": {
      "provenance": []
    },
    "kernelspec": {
      "name": "python3",
      "display_name": "Python 3"
    },
    "language_info": {
      "name": "python"
    }
  },
  "cells": [
    {
      "cell_type": "code",
      "metadata": {
        "id": "D-a_aAZ-0Bj6"
      },
      "source": [
        "import numpy as np\n",
        "import pandas as pd\n",
        "\n",
        "from sklearn.model_selection import train_test_split\n",
        "from sklearn.preprocessing import MinMaxScaler\n",
        "\n",
        "import matplotlib.pyplot as plt\n",
        "import seaborn as sns\n",
        "\n",
        "%matplotlib inline\n",
        "sns.set_style('darkgrid')"
      ],
      "execution_count": null,
      "outputs": []
    },
    {
      "cell_type": "markdown",
      "metadata": {
        "id": "BtkTb35lMCLk"
      },
      "source": [
        "Prepare data"
      ]
    },
    {
      "cell_type": "code",
      "metadata": {
        "colab": {
          "base_uri": "https://localhost:8080/",
          "height": 206
        },
        "id": "Tn9CxF2HJqjK",
        "outputId": "a52a088b-5562-48ed-e107-5ae98cccc9e2"
      },
      "source": [
        "dataset = pd.read_csv('Diabetic.txt', skiprows=24, header=None)\n",
        "\n",
        "#One-hot encoding\n",
        "dataset = pd.get_dummies(dataset, columns=[0, 1, 18])\n",
        "\n",
        "#min-max scale\n",
        "scaler = MinMaxScaler()\n",
        "dataset[[2,3,4,5,6,7,8,9,10,11,12,13,14,15,16,17]] = scaler.fit_transform(dataset[[2,3,4,5,6,7,8,9,10,11,12,13,14,15,16,17]])\n",
        "\n",
        "dataset.head()"
      ],
      "execution_count": null,
      "outputs": [
        {
          "output_type": "execute_result",
          "data": {
            "text/html": [
              "<div>\n",
              "<style scoped>\n",
              "    .dataframe tbody tr th:only-of-type {\n",
              "        vertical-align: middle;\n",
              "    }\n",
              "\n",
              "    .dataframe tbody tr th {\n",
              "        vertical-align: top;\n",
              "    }\n",
              "\n",
              "    .dataframe thead th {\n",
              "        text-align: right;\n",
              "    }\n",
              "</style>\n",
              "<table border=\"1\" class=\"dataframe\">\n",
              "  <thead>\n",
              "    <tr style=\"text-align: right;\">\n",
              "      <th></th>\n",
              "      <th>2</th>\n",
              "      <th>3</th>\n",
              "      <th>4</th>\n",
              "      <th>5</th>\n",
              "      <th>6</th>\n",
              "      <th>7</th>\n",
              "      <th>8</th>\n",
              "      <th>9</th>\n",
              "      <th>10</th>\n",
              "      <th>11</th>\n",
              "      <th>12</th>\n",
              "      <th>13</th>\n",
              "      <th>14</th>\n",
              "      <th>15</th>\n",
              "      <th>16</th>\n",
              "      <th>17</th>\n",
              "      <th>19</th>\n",
              "      <th>0_0</th>\n",
              "      <th>0_1</th>\n",
              "      <th>1_0</th>\n",
              "      <th>1_1</th>\n",
              "      <th>18_0</th>\n",
              "      <th>18_1</th>\n",
              "    </tr>\n",
              "  </thead>\n",
              "  <tbody>\n",
              "    <tr>\n",
              "      <th>0</th>\n",
              "      <td>0.140000</td>\n",
              "      <td>0.160305</td>\n",
              "      <td>0.176471</td>\n",
              "      <td>0.173077</td>\n",
              "      <td>0.177083</td>\n",
              "      <td>0.147727</td>\n",
              "      <td>0.122764</td>\n",
              "      <td>0.106359</td>\n",
              "      <td>0.049693</td>\n",
              "      <td>0.012913</td>\n",
              "      <td>0.000362</td>\n",
              "      <td>0.000342</td>\n",
              "      <td>0.000661</td>\n",
              "      <td>0.001271</td>\n",
              "      <td>0.530801</td>\n",
              "      <td>0.261133</td>\n",
              "      <td>0</td>\n",
              "      <td>0</td>\n",
              "      <td>1</td>\n",
              "      <td>0</td>\n",
              "      <td>1</td>\n",
              "      <td>0</td>\n",
              "      <td>1</td>\n",
              "    </tr>\n",
              "    <tr>\n",
              "      <th>1</th>\n",
              "      <td>0.153333</td>\n",
              "      <td>0.175573</td>\n",
              "      <td>0.176471</td>\n",
              "      <td>0.163462</td>\n",
              "      <td>0.156250</td>\n",
              "      <td>0.136364</td>\n",
              "      <td>0.142126</td>\n",
              "      <td>0.142403</td>\n",
              "      <td>0.031351</td>\n",
              "      <td>0.003918</td>\n",
              "      <td>0.000076</td>\n",
              "      <td>0.000194</td>\n",
              "      <td>0.000657</td>\n",
              "      <td>0.001264</td>\n",
              "      <td>0.682302</td>\n",
              "      <td>0.536341</td>\n",
              "      <td>0</td>\n",
              "      <td>0</td>\n",
              "      <td>1</td>\n",
              "      <td>0</td>\n",
              "      <td>1</td>\n",
              "      <td>1</td>\n",
              "      <td>0</td>\n",
              "    </tr>\n",
              "    <tr>\n",
              "      <th>2</th>\n",
              "      <td>0.406667</td>\n",
              "      <td>0.450382</td>\n",
              "      <td>0.487395</td>\n",
              "      <td>0.509615</td>\n",
              "      <td>0.479167</td>\n",
              "      <td>0.363636</td>\n",
              "      <td>0.137472</td>\n",
              "      <td>0.167497</td>\n",
              "      <td>0.119614</td>\n",
              "      <td>0.081188</td>\n",
              "      <td>0.027106</td>\n",
              "      <td>0.018571</td>\n",
              "      <td>0.007043</td>\n",
              "      <td>0.002509</td>\n",
              "      <td>0.726836</td>\n",
              "      <td>0.437973</td>\n",
              "      <td>1</td>\n",
              "      <td>0</td>\n",
              "      <td>1</td>\n",
              "      <td>0</td>\n",
              "      <td>1</td>\n",
              "      <td>1</td>\n",
              "      <td>0</td>\n",
              "    </tr>\n",
              "    <tr>\n",
              "      <th>3</th>\n",
              "      <td>0.360000</td>\n",
              "      <td>0.396947</td>\n",
              "      <td>0.436975</td>\n",
              "      <td>0.471154</td>\n",
              "      <td>0.437500</td>\n",
              "      <td>0.340909</td>\n",
              "      <td>0.099403</td>\n",
              "      <td>0.110368</td>\n",
              "      <td>0.085971</td>\n",
              "      <td>0.051525</td>\n",
              "      <td>0.016340</td>\n",
              "      <td>0.013555</td>\n",
              "      <td>0.001289</td>\n",
              "      <td>0.000496</td>\n",
              "      <td>0.514678</td>\n",
              "      <td>0.352675</td>\n",
              "      <td>0</td>\n",
              "      <td>0</td>\n",
              "      <td>1</td>\n",
              "      <td>0</td>\n",
              "      <td>1</td>\n",
              "      <td>1</td>\n",
              "      <td>0</td>\n",
              "    </tr>\n",
              "    <tr>\n",
              "      <th>4</th>\n",
              "      <td>0.286667</td>\n",
              "      <td>0.328244</td>\n",
              "      <td>0.361345</td>\n",
              "      <td>0.384615</td>\n",
              "      <td>0.395833</td>\n",
              "      <td>0.295455</td>\n",
              "      <td>0.043799</td>\n",
              "      <td>0.051281</td>\n",
              "      <td>0.003869</td>\n",
              "      <td>0.000000</td>\n",
              "      <td>0.000000</td>\n",
              "      <td>0.000000</td>\n",
              "      <td>0.000000</td>\n",
              "      <td>0.000000</td>\n",
              "      <td>0.481936</td>\n",
              "      <td>0.407122</td>\n",
              "      <td>1</td>\n",
              "      <td>0</td>\n",
              "      <td>1</td>\n",
              "      <td>0</td>\n",
              "      <td>1</td>\n",
              "      <td>1</td>\n",
              "      <td>0</td>\n",
              "    </tr>\n",
              "  </tbody>\n",
              "</table>\n",
              "</div>"
            ],
            "text/plain": [
              "          2         3         4         5         6  ...  0_1  1_0  1_1  18_0  18_1\n",
              "0  0.140000  0.160305  0.176471  0.173077  0.177083  ...    1    0    1     0     1\n",
              "1  0.153333  0.175573  0.176471  0.163462  0.156250  ...    1    0    1     1     0\n",
              "2  0.406667  0.450382  0.487395  0.509615  0.479167  ...    1    0    1     1     0\n",
              "3  0.360000  0.396947  0.436975  0.471154  0.437500  ...    1    0    1     1     0\n",
              "4  0.286667  0.328244  0.361345  0.384615  0.395833  ...    1    0    1     1     0\n",
              "\n",
              "[5 rows x 23 columns]"
            ]
          },
          "metadata": {},
          "execution_count": 2
        }
      ]
    },
    {
      "cell_type": "code",
      "metadata": {
        "id": "T79DT0ZhpiPD"
      },
      "source": [],
      "execution_count": null,
      "outputs": []
    },
    {
      "cell_type": "markdown",
      "metadata": {
        "id": "HM7zsHHiM8SK"
      },
      "source": [
        "Separate dataset"
      ]
    },
    {
      "cell_type": "code",
      "metadata": {
        "id": "g6U8KGzYK21Y"
      },
      "source": [
        "x = dataset.drop(19, axis=1).values\n",
        "y = dataset[[19]].values\n",
        "\n",
        "x_train, x_test, y_train, y_test = train_test_split(x, y, test_size=0.15)\n",
        "x_train, x_val, y_train, y_val = train_test_split(x_train, y_train, test_size=0.1176)"
      ],
      "execution_count": null,
      "outputs": []
    },
    {
      "cell_type": "markdown",
      "metadata": {
        "id": "_16_g-OlNyMG"
      },
      "source": [
        "Functions"
      ]
    },
    {
      "cell_type": "code",
      "metadata": {
        "id": "7QykZ4k3Nzk6"
      },
      "source": [
        "def sigmoid(x):\n",
        "  return 1 / (1 + np.exp(-x))\n",
        "\n",
        "def mean_squared_error(predictions, labels):\n",
        "  N = labels.size\n",
        "  mse = ((predictions - labels)**2).sum() / (2*N)\n",
        "  return mse\n",
        "\n",
        "def accuracy(predictions, labels):\n",
        "  predictions_correct = predictions.round() == labels\n",
        "  accuracy = predictions_correct.mean()\n",
        "  return accuracy"
      ],
      "execution_count": null,
      "outputs": []
    },
    {
      "cell_type": "markdown",
      "metadata": {
        "id": "YAV2EgK1N7pq"
      },
      "source": [
        "Parameters"
      ]
    },
    {
      "cell_type": "code",
      "metadata": {
        "id": "XXo3iWWHN9i6"
      },
      "source": [
        "lr = 0.8\n",
        "epochs = 30000\n",
        "N = y_train.size\n",
        "\n",
        "n_input = 22\n",
        "n_hidden = 8\n",
        "n_output = 1"
      ],
      "execution_count": null,
      "outputs": []
    },
    {
      "cell_type": "markdown",
      "metadata": {
        "id": "oFJw1Qeb6wj0"
      },
      "source": [
        "init weights"
      ]
    },
    {
      "cell_type": "code",
      "metadata": {
        "id": "r0aK9wLOOHoh"
      },
      "source": [
        "np.random.seed(1)\n",
        "\n",
        "w1 = np.random.normal(scale=0.5, size=(n_input, n_hidden)) # (22, 8)\n",
        "w2 = np.random.normal(scale=0.5, size=(n_hidden, n_output)) # (8, 1)\n",
        "\n",
        "monitoring_train = {'mean_squared_error': [], 'accuracy': []}\n",
        "monitoring_val = {'mean_squared_error': [], 'accuracy': []}"
      ],
      "execution_count": null,
      "outputs": []
    },
    {
      "cell_type": "markdown",
      "metadata": {
        "id": "h8fU_k1hSU7B"
      },
      "source": [
        "Training"
      ]
    },
    {
      "cell_type": "code",
      "metadata": {
        "id": "oSftgKS_PLBs"
      },
      "source": [
        "for epoch in range(epochs):\n",
        "  \n",
        "  # forward\n",
        "  hidden_layer = sigmoid(np.dot(x_train, w1)) # (862, 8)\n",
        "  output_layer = sigmoid(np.dot(hidden_layer, w2)) # (862, 1)\n",
        "\n",
        "  # monitor accuracy and error of train set of every epoch\n",
        "  mse = mean_squared_error(output_layer, y_train)\n",
        "  acc = accuracy(output_layer, y_train)\n",
        "  monitoring_train['mean_squared_error'].append(mse)\n",
        "  monitoring_train['accuracy'].append(acc)\n",
        "\n",
        "  # backpropagation - difference * sigmoid derivative\n",
        "  d_output = (output_layer - y_train) * output_layer * (1 - output_layer) # (862, 1)\n",
        "  d_hidden = np.dot(d_output, w2.T) * hidden_layer * (1 - hidden_layer) # (862, 8)\n",
        "\n",
        "  # weight changes\n",
        "  w2 -= lr * np.dot(hidden_layer.T, d_output) / N\n",
        "  w1 -= lr * np.dot(x_train.T, d_hidden) / N\n",
        "\n",
        "  # monitor accuracy of validation set of every epoch\n",
        "  hidden_layer_val = hidden_layer\n",
        "  output_layer_val = output_layer\n",
        "  hidden_layer_val = sigmoid(np.dot(x_val, w1))\n",
        "  output_layer_val = sigmoid(np.dot(hidden_layer_val, w2))\n",
        "\n",
        "  mse_val = mean_squared_error(output_layer_val, y_val)\n",
        "  acc_val = accuracy(output_layer_val, y_val)\n",
        "  monitoring_val['mean_squared_error'].append(mse_val)\n",
        "  monitoring_val['accuracy'].append(acc_val)\n",
        "\n",
        "\n",
        "\n",
        "monitoring_train_df = pd.DataFrame(monitoring_train)\n",
        "monitoring_val_df = pd.DataFrame(monitoring_val)"
      ],
      "execution_count": null,
      "outputs": []
    },
    {
      "cell_type": "markdown",
      "metadata": {
        "id": "6aFaors_ZRXG"
      },
      "source": [
        "Train plots"
      ]
    },
    {
      "cell_type": "code",
      "metadata": {
        "colab": {
          "base_uri": "https://localhost:8080/",
          "height": 353
        },
        "id": "n7JhZuTbXITs",
        "outputId": "a0579f99-1a38-4d98-cdd2-c27aff1d4469"
      },
      "source": [
        "fig, axes = plt.subplots(1, 2, figsize=(15,5))\n",
        "\n",
        "monitoring_train_df.mean_squared_error.plot(ax=axes[0], title='Mean Squared Error')\n",
        "monitoring_train_df.accuracy.plot(ax=axes[1], title='Accuracy')"
      ],
      "execution_count": null,
      "outputs": [
        {
          "output_type": "execute_result",
          "data": {
            "text/plain": [
              "<matplotlib.axes._subplots.AxesSubplot at 0x7faa9ad724d0>"
            ]
          },
          "metadata": {},
          "execution_count": 8
        },
        {
          "output_type": "display_data",
          "data": {
            "image/png": "[encoded data removed]",
            "text/plain": [
              "<Figure size 1080x360 with 2 Axes>"
            ]
          },
          "metadata": {
            "needs_background": "light"
          }
        }
      ]
    },
    {
      "cell_type": "markdown",
      "metadata": {
        "id": "RzU-1JSca2-A"
      },
      "source": [
        "Validation"
      ]
    },
    {
      "cell_type": "code",
      "metadata": {
        "colab": {
          "base_uri": "https://localhost:8080/",
          "height": 353
        },
        "id": "gxpW5TYO5_jB",
        "outputId": "095186df-ab19-4a1b-89a9-b910114d1fce"
      },
      "source": [
        "fig, axes = plt.subplots(1, 2, figsize=(15,5))\n",
        "\n",
        "monitoring_val_df.mean_squared_error.plot(ax=axes[0], title='Mean Squared Error')\n",
        "monitoring_val_df.accuracy.plot(ax=axes[1], title='Accuracy')"
      ],
      "execution_count": null,
      "outputs": [
        {
          "output_type": "execute_result",
          "data": {
            "text/plain": [
              "<matplotlib.axes._subplots.AxesSubplot at 0x7faa9a819510>"
            ]
          },
          "metadata": {},
          "execution_count": 9
        },
        {
          "output_type": "display_data",
          "data": {
            "image/png": "[encoded data removed]",
            "text/plain": [
              "<Figure size 1080x360 with 2 Axes>"
            ]
          },
          "metadata": {
            "needs_background": "light"
          }
        }
      ]
    },
    {
      "cell_type": "markdown",
      "metadata": {
        "id": "HNnolIkyB3Cd"
      },
      "source": [
        "Test"
      ]
    },
    {
      "cell_type": "code",
      "metadata": {
        "colab": {
          "base_uri": "https://localhost:8080/"
        },
        "id": "7bsPliHUa2LI",
        "outputId": "158a4960-4135-4f6c-9f89-9edf42b03e02"
      },
      "source": [
        "# forward\n",
        "hidden_layer = sigmoid(np.dot(x_test, w1))\n",
        "output_layer = sigmoid(np.dot(hidden_layer, w2))\n",
        "\n",
        "accuracy(output_layer, y_test)"
      ],
      "execution_count": null,
      "outputs": [
        {
          "output_type": "execute_result",
          "data": {
            "text/plain": [
              "0.7283236994219653"
            ]
          },
          "metadata": {},
          "execution_count": 10
        }
      ]
    },
    {
      "cell_type": "code",
      "metadata": {
        "colab": {
          "base_uri": "https://localhost:8080/"
        },
        "id": "7j5HVP_5bYl2",
        "outputId": "1b61e350-1037-4f8e-827f-a594bedb2ac3"
      },
      "source": [
        "np.column_stack((y_test[:20], output_layer[:20]))"
      ],
      "execution_count": null,
      "outputs": [
        {
          "output_type": "execute_result",
          "data": {
            "text/plain": [
              "array([[0.        , 0.65515314],\n",
              "       [1.        , 0.8438288 ],\n",
              "       [0.        , 0.80970575],\n",
              "       [1.        , 0.91793925],\n",
              "       [0.        , 0.14941264],\n",
              "       [1.        , 0.30459407],\n",
              "       [1.        , 0.32067767],\n",
              "       [1.        , 0.8091413 ],\n",
              "       [0.        , 0.07235263],\n",
              "       [1.        , 0.31941906],\n",
              "       [1.        , 0.28481179],\n",
              "       [1.        , 0.91560298],\n",
              "       [0.        , 0.26199708],\n",
              "       [1.        , 0.40872187],\n",
              "       [0.        , 0.14374228],\n",
              "       [1.        , 0.7164223 ],\n",
              "       [1.        , 0.44225552],\n",
              "       [0.        , 0.24872589],\n",
              "       [1.        , 0.8498782 ],\n",
              "       [1.        , 0.86166059]])"
            ]
          },
          "metadata": {},
          "execution_count": 11
        }
      ]
    }
  ]
}